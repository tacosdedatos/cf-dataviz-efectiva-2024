{
 "cells": [
  {
   "cell_type": "markdown",
   "metadata": {},
   "source": [
    "# Gráficos Avanzados\n",
    "\n",
    "* Transformaciones\n",
    "    - bin\n",
    "    - sort\n",
    "    - agregaciones (quintiles, medias, promedios)\n",
    "    - agregaciones temporales\n",
    "* Interactividad\n",
    "    - zoom\n",
    "    - panning\n",
    "    - condiciones (para color)\n",
    "* Guardar tus gráficos\n",
    "\n",
    "Bonus (si hay tiempo): \n",
    "* funciones\n",
    "* creación dinámica de gráficos \n",
    "* altair en streamlit"
   ]
  },
  {
   "cell_type": "markdown",
   "metadata": {},
   "source": [
    "![Dataviz](https://cdn-images-1.medium.com/max/2000/1*jsb78Rr2cDy6zrE7j2IKig.png)\n",
    "\n",
    "Taxonomía de codificaciones visuales de Bertin, extraída de Sémiologie Graphique, adaptada por Mike Bostock."
   ]
  },
  {
   "cell_type": "code",
   "execution_count": null,
   "metadata": {},
   "outputs": [],
   "source": []
  }
 ],
 "metadata": {
  "language_info": {
   "name": "python"
  }
 },
 "nbformat": 4,
 "nbformat_minor": 2
}
